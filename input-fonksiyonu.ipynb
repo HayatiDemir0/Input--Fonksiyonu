{
 "cells": [
  {
   "cell_type": "code",
   "execution_count": 5,
   "id": "158531d0-dcca-479a-b074-6465c197f335",
   "metadata": {},
   "outputs": [
    {
     "name": "stdout",
     "output_type": "stream",
     "text": [
      "Merhaba GitHub Sayfama Hoşgeldiniz\n"
     ]
    },
    {
     "name": "stdin",
     "output_type": "stream",
     "text": [
      "İsminizi Giriniz:  hayati\n"
     ]
    },
    {
     "name": "stdout",
     "output_type": "stream",
     "text": [
      "Hoşgeldin,hayati\n"
     ]
    }
   ],
   "source": [
    "print(\"Merhaba GitHub Sayfama Hoşgeldiniz\")\n",
    "isim = input(\"İsminizi Giriniz: \")\n",
    "print(f\"Hoşgeldin,{isim}\")\n"
   ]
  },
  {
   "cell_type": "code",
   "execution_count": 15,
   "id": "0a5dfdc6-ccab-4b71-87fb-3a32a585eb90",
   "metadata": {},
   "outputs": [
    {
     "name": "stdout",
     "output_type": "stream",
     "text": [
      "Merhaba GitHub Sayfama Hoşgeldiniz\n"
     ]
    },
    {
     "name": "stdin",
     "output_type": "stream",
     "text": [
      "İsminizi Giriniz:  hayati\n",
      "Soyisminizi Giriniz:  demir\n"
     ]
    },
    {
     "name": "stdout",
     "output_type": "stream",
     "text": [
      "Hoşgeldiniz,hayati demir\n"
     ]
    }
   ],
   "source": [
    "print(\"Merhaba GitHub Sayfama Hoşgeldiniz\")\n",
    "isim = input(\"İsminizi Giriniz: \")\n",
    "soyisim= input(\"Soyisminizi Giriniz: \")\n",
    "print(f\"Hoşgeldin,{isim} {soyisim}\")\n"
   ]
  },
  {
   "cell_type": "code",
   "execution_count": null,
   "id": "b6ccf7ba-247a-46c8-b46d-bbed67fe9d32",
   "metadata": {},
   "outputs": [],
   "source": []
  }
 ],
 "metadata": {
  "kernelspec": {
   "display_name": "Python [conda env:base] *",
   "language": "python",
   "name": "conda-base-py"
  },
  "language_info": {
   "codemirror_mode": {
    "name": "ipython",
    "version": 3
   },
   "file_extension": ".py",
   "mimetype": "text/x-python",
   "name": "python",
   "nbconvert_exporter": "python",
   "pygments_lexer": "ipython3",
   "version": "3.12.7"
  }
 },
 "nbformat": 4,
 "nbformat_minor": 5
}
